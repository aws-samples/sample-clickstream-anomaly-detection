{
 "cells": [
  {
   "cell_type": "markdown",
   "id": "0c8b537a-28d4-45d0-ba39-fb092f623db9",
   "metadata": {
    "tags": []
   },
   "source": [
    "# Amazon SageMaker, Spotting anomaly through training an ip-insight model"
   ]
  },
  {
   "cell_type": "markdown",
   "id": "dfad9376-582b-451a-87a3-827a93e4504f",
   "metadata": {},
   "source": [
    "## 1. Introduction"
   ]
  },
  {
   "cell_type": "markdown",
   "id": "d78a3791-d0d0-45b2-bfe5-db2a3806f525",
   "metadata": {},
   "source": [
    "In this sample notebook, you will train, build, and deploy a model using the IP Insights algorithm and Amazon VPC flowlog data. You will query an Athena table and create a dataset for model training. You will perform data transformation on the results from the VPC flowlog data. Train an IP Insights model with this data. Deploy your model to a SageMaker endpoint and ultimately test your model."
   ]
  },
  {
   "cell_type": "markdown",
   "id": "38e5de33-c86d-4991-b05e-8df82aba7261",
   "metadata": {},
   "source": [
    "## 2. Setup your environment"
   ]
  },
  {
   "cell_type": "code",
   "execution_count": null,
   "id": "586bd167-595d-4975-bfc9-50bde3e05d1b",
   "metadata": {},
   "outputs": [],
   "source": [
    "# 1. install \n",
    "%conda install openjdk -y\n",
    "%pip install pyspark \n",
    "%pip install sagemaker_pyspark\n",
    "%pip install awswrangler"
   ]
  },
  {
   "cell_type": "code",
   "execution_count": null,
   "id": "d50070b7-0559-4e64-9df6-84c32c95fc72",
   "metadata": {
    "tags": []
   },
   "outputs": [],
   "source": [
    "# 2. setup, config .. imports\n",
    "\n",
    "import boto3\n",
    "import botocore\n",
    "import os\n",
    "import sagemaker\n",
    "import pandas as pd\n",
    "import awswrangler as wr\n",
    "\n",
    "from datetime import datetime\n",
    "from pyspark import SparkContext, SparkConf\n",
    "from pyspark.sql import SparkSession\n",
    "\n",
    "dt_today = datetime.now()\n",
    "str_today = dt_today.strftime(\"%m_%d_%Y_%H_%M_%S\")\n",
    "\n",
    "bucket = sagemaker.Session().default_bucket()\n",
    "prefix = \"sagemaker/ipinsights-vpcflowlogs\"\n",
    "execution_role = sagemaker.get_execution_role()\n",
    "region = boto3.Session().region_name\n",
    "seclakeregion = region.replace(\"-\",\"_\")\n",
    "\n",
    "# check if the bucket exists\n",
    "try:\n",
    "    boto3.Session().client(\"s3\").head_bucket(Bucket=bucket)\n",
    "except botocore.exceptions.ParamValidationError as e:\n",
    "    print(\n",
    "        \"You either forgot to specify your S3 bucket or you gave your bucket an invalid name!\"\n",
    "    )\n",
    "except botocore.exceptions.ClientError as e:\n",
    "    if e.response[\"Error\"][\"Code\"] == \"403\":\n",
    "        print(f\"Hey! You don't have permission to access the bucket, {bucket}.\")\n",
    "    elif e.response[\"Error\"][\"Code\"] == \"404\":\n",
    "        print(f\"Hey! Your bucket, {bucket}, doesn't exist!\")\n",
    "    else:\n",
    "        raise\n",
    "else:\n",
    "    print(f\"Training input/output will be stored in: s3://{bucket}/{prefix}\")\n",
    "print(f\"Session timestamp: {str_today}\")"
   ]
  },
  {
   "cell_type": "markdown",
   "id": "a1f96dbc-b9c9-474b-bda0-24db3b70d803",
   "metadata": {},
   "source": [
    "## 3. Query and transform VPC Flow Log data\n",
    "\n",
    "**Prerequisites**\n",
    "\n",
    "1. Performed steps described in this article: [Analyze VPC Flow Logs with point-and-click Amazon Athena integration](https://aws.amazon.com/blogs/networking-and-content-delivery/analyze-vpc-flow-logs-with-point-and-click-amazon-athena-integration/)\n",
    "2. Run the paragraph below after replacing your table name in the SQL statement. "
   ]
  },
  {
   "cell_type": "code",
   "execution_count": null,
   "id": "b90a0560-11ab-41cd-a8eb-2a0ba3caa71b",
   "metadata": {
    "tags": []
   },
   "outputs": [],
   "source": [
    "# 3. query VPC flow logs from VPC flow log athena integration table\n",
    "#ocsf_df = wr.athena.read_sql_query(\"SELECT src_endpoint.instance_uid as instance_id, src_endpoint.ip as sourceip FROM amazon_security_lake_table_\"+seclakeregion+\"_vpc_flow_1_0 WHERE src_endpoint.ip IS NOT NULL AND src_endpoint.instance_uid IS NOT NULL AND src_endpoint.instance_uid != '-' AND src_endpoint.ip != '-'\", database=\"amazon_security_lake_glue_db_us_east_1\", ctas_approach=False, unload_approach=True, s3_output=f\"s3://{bucket}/unload/parquet/updated/{str_today}\")\n",
    "wr.s3.delete_objects(f\"s3://{bucket}/unload/parquet/updated/{str_today}\")\n",
    "ocsf_df = wr.athena.read_sql_query(\"\"\"\n",
    "SELECT interface_id, srcaddr FROM [VPC FLOWLOG TABLE NAME] where starts_with(srcaddr, '10.') and starts_with(dstaddr, '10.') ;\n",
    "\"\"\", database=\"[DATABASE NAME]\", ctas_approach=False, unload_approach=False, s3_output=f\"s3://{bucket}/unload/parquet/updated/{str_today}\")\n",
    "ocsf_df.head()"
   ]
  },
  {
   "cell_type": "markdown",
   "id": "bf5a8c49-80b5-4475-98ad-f0a2cb27df91",
   "metadata": {},
   "source": [
    "## 6. Download image and train IP Insight model"
   ]
  },
  {
   "cell_type": "code",
   "execution_count": null,
   "id": "b3e3c64d-d03b-4dfb-b00d-5e2f3cc84e5b",
   "metadata": {
    "tags": []
   },
   "outputs": [],
   "source": [
    "# 6 setup training data channel and IPInsights algorithm Docker image\n",
    "training_path = f\"s3://{bucket}/{prefix}/training/training_input.csv\"\n",
    "\n",
    "wr.s3.to_csv(ocsf_df, training_path, header=False, index=False)"
   ]
  },
  {
   "cell_type": "code",
   "execution_count": null,
   "id": "cae1cffe-dfeb-4769-bb6d-7bf61166f21f",
   "metadata": {
    "tags": []
   },
   "outputs": [],
   "source": [
    "from sagemaker.amazon.amazon_estimator import image_uris\n",
    "\n",
    "image = sagemaker.image_uris.get_training_image_uri(boto3.Session().region_name,\"ipinsights\")"
   ]
  },
  {
   "cell_type": "code",
   "execution_count": null,
   "id": "92705cce-8ed1-4eff-8b9f-e507c1c9c941",
   "metadata": {
    "tags": []
   },
   "outputs": [],
   "source": [
    "# change instance type depending on size of input training\n",
    "ip_insights = sagemaker.estimator.Estimator(\n",
    "    image,\n",
    "    execution_role,\n",
    "    instance_count=1,\n",
    "    instance_type=\"ml.m5.2xlarge\",\n",
    "    output_path=f\"s3://{bucket}/{prefix}/output\",\n",
    "    sagemaker_session=sagemaker.Session(),\n",
    ")\n",
    "\n",
    "# change hyperparameters depending on size of input training and desired training constraints\n",
    "ip_insights.set_hyperparameters(\n",
    "    num_entity_vectors=\"20000\",\n",
    "    random_negative_sampling_rate=\"5\",\n",
    "    vector_dim=\"128\",\n",
    "    mini_batch_size=\"1000\",\n",
    "    epochs=\"5\",\n",
    "    learning_rate=\"0.01\",\n",
    ")"
   ]
  },
  {
   "cell_type": "code",
   "execution_count": null,
   "id": "70d2be81-740f-4752-ad07-1591c36ac2c9",
   "metadata": {
    "tags": []
   },
   "outputs": [],
   "source": [
    "input_data = {\n",
    "    \"train\": sagemaker.session.s3_input(training_path, content_type=\"text/csv\")\n",
    "}"
   ]
  },
  {
   "cell_type": "code",
   "execution_count": null,
   "id": "c6d21af5-8b25-4ca0-a621-40cc358afdd1",
   "metadata": {
    "tags": []
   },
   "outputs": [],
   "source": [
    "# train and fit IPInsights model based on training data\n",
    "\n",
    "ip_insights.fit(input_data)"
   ]
  },
  {
   "cell_type": "markdown",
   "id": "98df271d-918e-4be5-93cc-b38927388811",
   "metadata": {},
   "source": [
    "## 7. Deploy Sagemaker Endpoint"
   ]
  },
  {
   "cell_type": "code",
   "execution_count": null,
   "id": "a0a35ad3-ec7e-4a18-bae2-ef7092753d84",
   "metadata": {
    "tags": []
   },
   "outputs": [],
   "source": [
    "# deploy trained IPInsights model to SageMaker endpoint.  Again, change instance_type and autoscaling based on your scenario\n",
    "predictor = ip_insights.deploy(initial_instance_count=1, instance_type=\"ml.m5.large\")\n",
    "print(f\"Endpoint name: {predictor.endpoint}\")"
   ]
  },
  {
   "cell_type": "markdown",
   "id": "5832a912-1978-4d0b-a2db-82a2c903d71d",
   "metadata": {},
   "source": [
    "## 8. Submit network data for inference to the endpoint"
   ]
  },
  {
   "cell_type": "markdown",
   "id": "2f5a9fa9-955b-4899-b7d9-3ce436108574",
   "metadata": {},
   "source": [
    "This portion of code assumes you have test data saved in a local folder or a S3 bucket. \n",
    "\n",
    "The test data is simply a CSV file, where the first columns are instance ids and the second columns are IPs. \n",
    "\n",
    "It is recommended to test valid and invalid data to see the results of the model"
   ]
  },
  {
   "cell_type": "code",
   "execution_count": null,
   "id": "87b5efd9-b5c6-4ab1-93a9-d0e8ffde1b1f",
   "metadata": {
    "scrolled": true
   },
   "outputs": [],
   "source": [
    "# read file\n",
    "# file @ S3 approach\n",
    "inference_df = wr.s3.read_csv(training_path, header=None).sample(5)\n",
    "\n",
    "# file @ local approach\n",
    "anomaly_df = wr.pandas.read_csv('../data/testdata-ipinsights.csv',header=None)\n",
    "inference_df = pd.concat([inference_df, anomaly_df])"
   ]
  },
  {
   "cell_type": "code",
   "execution_count": null,
   "id": "f4ee1e9e-0ce7-4afc-9987-adc0f70737f7",
   "metadata": {},
   "outputs": [],
   "source": [
    "# prepare bulk request from data frame\n",
    "import io\n",
    "from io import StringIO\n",
    "\n",
    "csv_file = io.StringIO()\n",
    "inference_csv = inference_df.to_csv(csv_file, sep=\",\", header=False, index=False)\n",
    "inference_request_payload = csv_file.getvalue()\n",
    "print(inference_request_payload)"
   ]
  },
  {
   "cell_type": "code",
   "execution_count": null,
   "id": "76b08f24-6494-40f0-b6df-d24b79a72de0",
   "metadata": {},
   "outputs": [],
   "source": [
    "# invoke deployed SageMaker model using inference request payload\n",
    "inference_response = predictor.predict(\n",
    "    inference_request_payload,\n",
    "    initial_args={\"ContentType\":'text/csv'})\n",
    "\n",
    "# log response\n",
    "print(inference_response)"
   ]
  },
  {
   "cell_type": "markdown",
   "id": "1c6ccf46-bc37-44b3-9d4c-088bc160bdf9",
   "metadata": {},
   "source": [
    "## 9.Cleanup"
   ]
  },
  {
   "cell_type": "code",
   "execution_count": null,
   "id": "2bc02f9c-d3d7-4f14-8217-20e37a91ccce",
   "metadata": {},
   "outputs": [],
   "source": [
    "# delete endpoint if necessary to minimize costs\n",
    "predictor.delete_endpoint()"
   ]
  },
  {
   "cell_type": "code",
   "execution_count": null,
   "id": "ba1559e4-42ae-476e-be76-8bc5b29fcd30",
   "metadata": {},
   "outputs": [],
   "source": []
  }
 ],
 "metadata": {
  "availableInstances": [
   {
    "_defaultOrder": 0,
    "_isFastLaunch": true,
    "category": "General purpose",
    "gpuNum": 0,
    "memoryGiB": 4,
    "name": "ml.t3.medium",
    "vcpuNum": 2
   },
   {
    "_defaultOrder": 1,
    "_isFastLaunch": false,
    "category": "General purpose",
    "gpuNum": 0,
    "memoryGiB": 8,
    "name": "ml.t3.large",
    "vcpuNum": 2
   },
   {
    "_defaultOrder": 2,
    "_isFastLaunch": false,
    "category": "General purpose",
    "gpuNum": 0,
    "memoryGiB": 16,
    "name": "ml.t3.xlarge",
    "vcpuNum": 4
   },
   {
    "_defaultOrder": 3,
    "_isFastLaunch": false,
    "category": "General purpose",
    "gpuNum": 0,
    "memoryGiB": 32,
    "name": "ml.t3.2xlarge",
    "vcpuNum": 8
   },
   {
    "_defaultOrder": 4,
    "_isFastLaunch": true,
    "category": "General purpose",
    "gpuNum": 0,
    "memoryGiB": 8,
    "name": "ml.m5.large",
    "vcpuNum": 2
   },
   {
    "_defaultOrder": 5,
    "_isFastLaunch": false,
    "category": "General purpose",
    "gpuNum": 0,
    "memoryGiB": 16,
    "name": "ml.m5.xlarge",
    "vcpuNum": 4
   },
   {
    "_defaultOrder": 6,
    "_isFastLaunch": false,
    "category": "General purpose",
    "gpuNum": 0,
    "memoryGiB": 32,
    "name": "ml.m5.2xlarge",
    "vcpuNum": 8
   },
   {
    "_defaultOrder": 7,
    "_isFastLaunch": false,
    "category": "General purpose",
    "gpuNum": 0,
    "memoryGiB": 64,
    "name": "ml.m5.4xlarge",
    "vcpuNum": 16
   },
   {
    "_defaultOrder": 8,
    "_isFastLaunch": false,
    "category": "General purpose",
    "gpuNum": 0,
    "memoryGiB": 128,
    "name": "ml.m5.8xlarge",
    "vcpuNum": 32
   },
   {
    "_defaultOrder": 9,
    "_isFastLaunch": false,
    "category": "General purpose",
    "gpuNum": 0,
    "memoryGiB": 192,
    "name": "ml.m5.12xlarge",
    "vcpuNum": 48
   },
   {
    "_defaultOrder": 10,
    "_isFastLaunch": false,
    "category": "General purpose",
    "gpuNum": 0,
    "memoryGiB": 256,
    "name": "ml.m5.16xlarge",
    "vcpuNum": 64
   },
   {
    "_defaultOrder": 11,
    "_isFastLaunch": false,
    "category": "General purpose",
    "gpuNum": 0,
    "memoryGiB": 384,
    "name": "ml.m5.24xlarge",
    "vcpuNum": 96
   },
   {
    "_defaultOrder": 12,
    "_isFastLaunch": false,
    "category": "General purpose",
    "gpuNum": 0,
    "memoryGiB": 8,
    "name": "ml.m5d.large",
    "vcpuNum": 2
   },
   {
    "_defaultOrder": 13,
    "_isFastLaunch": false,
    "category": "General purpose",
    "gpuNum": 0,
    "memoryGiB": 16,
    "name": "ml.m5d.xlarge",
    "vcpuNum": 4
   },
   {
    "_defaultOrder": 14,
    "_isFastLaunch": false,
    "category": "General purpose",
    "gpuNum": 0,
    "memoryGiB": 32,
    "name": "ml.m5d.2xlarge",
    "vcpuNum": 8
   },
   {
    "_defaultOrder": 15,
    "_isFastLaunch": false,
    "category": "General purpose",
    "gpuNum": 0,
    "memoryGiB": 64,
    "name": "ml.m5d.4xlarge",
    "vcpuNum": 16
   },
   {
    "_defaultOrder": 16,
    "_isFastLaunch": false,
    "category": "General purpose",
    "gpuNum": 0,
    "memoryGiB": 128,
    "name": "ml.m5d.8xlarge",
    "vcpuNum": 32
   },
   {
    "_defaultOrder": 17,
    "_isFastLaunch": false,
    "category": "General purpose",
    "gpuNum": 0,
    "memoryGiB": 192,
    "name": "ml.m5d.12xlarge",
    "vcpuNum": 48
   },
   {
    "_defaultOrder": 18,
    "_isFastLaunch": false,
    "category": "General purpose",
    "gpuNum": 0,
    "memoryGiB": 256,
    "name": "ml.m5d.16xlarge",
    "vcpuNum": 64
   },
   {
    "_defaultOrder": 19,
    "_isFastLaunch": false,
    "category": "General purpose",
    "gpuNum": 0,
    "memoryGiB": 384,
    "name": "ml.m5d.24xlarge",
    "vcpuNum": 96
   },
   {
    "_defaultOrder": 20,
    "_isFastLaunch": true,
    "category": "Compute optimized",
    "gpuNum": 0,
    "memoryGiB": 4,
    "name": "ml.c5.large",
    "vcpuNum": 2
   },
   {
    "_defaultOrder": 21,
    "_isFastLaunch": false,
    "category": "Compute optimized",
    "gpuNum": 0,
    "memoryGiB": 8,
    "name": "ml.c5.xlarge",
    "vcpuNum": 4
   },
   {
    "_defaultOrder": 22,
    "_isFastLaunch": false,
    "category": "Compute optimized",
    "gpuNum": 0,
    "memoryGiB": 16,
    "name": "ml.c5.2xlarge",
    "vcpuNum": 8
   },
   {
    "_defaultOrder": 23,
    "_isFastLaunch": false,
    "category": "Compute optimized",
    "gpuNum": 0,
    "memoryGiB": 32,
    "name": "ml.c5.4xlarge",
    "vcpuNum": 16
   },
   {
    "_defaultOrder": 24,
    "_isFastLaunch": false,
    "category": "Compute optimized",
    "gpuNum": 0,
    "memoryGiB": 72,
    "name": "ml.c5.9xlarge",
    "vcpuNum": 36
   },
   {
    "_defaultOrder": 25,
    "_isFastLaunch": false,
    "category": "Compute optimized",
    "gpuNum": 0,
    "memoryGiB": 96,
    "name": "ml.c5.12xlarge",
    "vcpuNum": 48
   },
   {
    "_defaultOrder": 26,
    "_isFastLaunch": false,
    "category": "Compute optimized",
    "gpuNum": 0,
    "memoryGiB": 144,
    "name": "ml.c5.18xlarge",
    "vcpuNum": 72
   },
   {
    "_defaultOrder": 27,
    "_isFastLaunch": false,
    "category": "Compute optimized",
    "gpuNum": 0,
    "memoryGiB": 192,
    "name": "ml.c5.24xlarge",
    "vcpuNum": 96
   },
   {
    "_defaultOrder": 28,
    "_isFastLaunch": true,
    "category": "Accelerated computing",
    "gpuNum": 1,
    "memoryGiB": 16,
    "name": "ml.g4dn.xlarge",
    "vcpuNum": 4
   },
   {
    "_defaultOrder": 29,
    "_isFastLaunch": false,
    "category": "Accelerated computing",
    "gpuNum": 1,
    "memoryGiB": 32,
    "name": "ml.g4dn.2xlarge",
    "vcpuNum": 8
   },
   {
    "_defaultOrder": 30,
    "_isFastLaunch": false,
    "category": "Accelerated computing",
    "gpuNum": 1,
    "memoryGiB": 64,
    "name": "ml.g4dn.4xlarge",
    "vcpuNum": 16
   },
   {
    "_defaultOrder": 31,
    "_isFastLaunch": false,
    "category": "Accelerated computing",
    "gpuNum": 1,
    "memoryGiB": 128,
    "name": "ml.g4dn.8xlarge",
    "vcpuNum": 32
   },
   {
    "_defaultOrder": 32,
    "_isFastLaunch": false,
    "category": "Accelerated computing",
    "gpuNum": 4,
    "memoryGiB": 192,
    "name": "ml.g4dn.12xlarge",
    "vcpuNum": 48
   },
   {
    "_defaultOrder": 33,
    "_isFastLaunch": false,
    "category": "Accelerated computing",
    "gpuNum": 1,
    "memoryGiB": 256,
    "name": "ml.g4dn.16xlarge",
    "vcpuNum": 64
   },
   {
    "_defaultOrder": 34,
    "_isFastLaunch": false,
    "category": "Accelerated computing",
    "gpuNum": 1,
    "memoryGiB": 61,
    "name": "ml.p3.2xlarge",
    "vcpuNum": 8
   },
   {
    "_defaultOrder": 35,
    "_isFastLaunch": false,
    "category": "Accelerated computing",
    "gpuNum": 4,
    "memoryGiB": 244,
    "name": "ml.p3.8xlarge",
    "vcpuNum": 32
   },
   {
    "_defaultOrder": 36,
    "_isFastLaunch": false,
    "category": "Accelerated computing",
    "gpuNum": 8,
    "memoryGiB": 488,
    "name": "ml.p3.16xlarge",
    "vcpuNum": 64
   },
   {
    "_defaultOrder": 37,
    "_isFastLaunch": false,
    "category": "Accelerated computing",
    "gpuNum": 8,
    "memoryGiB": 768,
    "name": "ml.p3dn.24xlarge",
    "vcpuNum": 96
   },
   {
    "_defaultOrder": 38,
    "_isFastLaunch": false,
    "category": "Memory Optimized",
    "gpuNum": 0,
    "memoryGiB": 16,
    "name": "ml.r5.large",
    "vcpuNum": 2
   },
   {
    "_defaultOrder": 39,
    "_isFastLaunch": false,
    "category": "Memory Optimized",
    "gpuNum": 0,
    "memoryGiB": 32,
    "name": "ml.r5.xlarge",
    "vcpuNum": 4
   },
   {
    "_defaultOrder": 40,
    "_isFastLaunch": false,
    "category": "Memory Optimized",
    "gpuNum": 0,
    "memoryGiB": 64,
    "name": "ml.r5.2xlarge",
    "vcpuNum": 8
   },
   {
    "_defaultOrder": 41,
    "_isFastLaunch": false,
    "category": "Memory Optimized",
    "gpuNum": 0,
    "memoryGiB": 128,
    "name": "ml.r5.4xlarge",
    "vcpuNum": 16
   },
   {
    "_defaultOrder": 42,
    "_isFastLaunch": false,
    "category": "Memory Optimized",
    "gpuNum": 0,
    "memoryGiB": 256,
    "name": "ml.r5.8xlarge",
    "vcpuNum": 32
   },
   {
    "_defaultOrder": 43,
    "_isFastLaunch": false,
    "category": "Memory Optimized",
    "gpuNum": 0,
    "memoryGiB": 384,
    "name": "ml.r5.12xlarge",
    "vcpuNum": 48
   },
   {
    "_defaultOrder": 44,
    "_isFastLaunch": false,
    "category": "Memory Optimized",
    "gpuNum": 0,
    "memoryGiB": 512,
    "name": "ml.r5.16xlarge",
    "vcpuNum": 64
   },
   {
    "_defaultOrder": 45,
    "_isFastLaunch": false,
    "category": "Memory Optimized",
    "gpuNum": 0,
    "memoryGiB": 768,
    "name": "ml.r5.24xlarge",
    "vcpuNum": 96
   },
   {
    "_defaultOrder": 46,
    "_isFastLaunch": false,
    "category": "Accelerated computing",
    "gpuNum": 1,
    "memoryGiB": 16,
    "name": "ml.g5.xlarge",
    "vcpuNum": 4
   },
   {
    "_defaultOrder": 47,
    "_isFastLaunch": false,
    "category": "Accelerated computing",
    "gpuNum": 1,
    "memoryGiB": 32,
    "name": "ml.g5.2xlarge",
    "vcpuNum": 8
   },
   {
    "_defaultOrder": 48,
    "_isFastLaunch": false,
    "category": "Accelerated computing",
    "gpuNum": 1,
    "memoryGiB": 64,
    "name": "ml.g5.4xlarge",
    "vcpuNum": 16
   },
   {
    "_defaultOrder": 49,
    "_isFastLaunch": false,
    "category": "Accelerated computing",
    "gpuNum": 1,
    "memoryGiB": 128,
    "name": "ml.g5.8xlarge",
    "vcpuNum": 32
   },
   {
    "_defaultOrder": 50,
    "_isFastLaunch": false,
    "category": "Accelerated computing",
    "gpuNum": 1,
    "memoryGiB": 256,
    "name": "ml.g5.16xlarge",
    "vcpuNum": 64
   },
   {
    "_defaultOrder": 51,
    "_isFastLaunch": false,
    "category": "Accelerated computing",
    "gpuNum": 4,
    "memoryGiB": 192,
    "name": "ml.g5.12xlarge",
    "vcpuNum": 48
   },
   {
    "_defaultOrder": 52,
    "_isFastLaunch": false,
    "category": "Accelerated computing",
    "gpuNum": 4,
    "memoryGiB": 384,
    "name": "ml.g5.24xlarge",
    "vcpuNum": 96
   },
   {
    "_defaultOrder": 53,
    "_isFastLaunch": false,
    "category": "Accelerated computing",
    "gpuNum": 8,
    "memoryGiB": 768,
    "name": "ml.g5.48xlarge",
    "vcpuNum": 192
   }
  ],
  "instance_type": "ml.m5.large",
  "kernelspec": {
   "display_name": "Python 3 (ipykernel)",
   "language": "python",
   "name": "python3"
  },
  "language_info": {
   "codemirror_mode": {
    "name": "ipython",
    "version": 3
   },
   "file_extension": ".py",
   "mimetype": "text/x-python",
   "name": "python",
   "nbconvert_exporter": "python",
   "pygments_lexer": "ipython3",
   "version": "3.10.13"
  }
 },
 "nbformat": 4,
 "nbformat_minor": 5
}
